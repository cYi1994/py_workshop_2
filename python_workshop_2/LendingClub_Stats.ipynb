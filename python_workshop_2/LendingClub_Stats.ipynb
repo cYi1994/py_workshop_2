{
 "cells": [
  {
   "cell_type": "code",
   "execution_count": 10,
   "metadata": {
    "collapsed": true
   },
   "outputs": [],
   "source": [
    "import pandas as pd\n",
    "import numpy as np\n",
    "import matplotlib.pyplot as plt\n",
    "import seaborn as sns\n",
    "% matplotlib inline\n",
    "pd.set_option('display.max_columns', 500)"
   ]
  },
  {
   "cell_type": "code",
   "execution_count": 13,
   "metadata": {
    "collapsed": true
   },
   "outputs": [],
   "source": [
    "use_cols = ['loan_amnt', 'term', 'int_rate', 'grade', 'sub_grade', 'emp_length', 'home_ownership', 'annual_inc',\n",
    "           'verification_status', 'issue_d', 'loan_status', 'purpose', 'addr_state', 'dti', 'earliest_cr_line',\n",
    "           'revol_bal', 'revol_util']"
   ]
  },
  {
   "cell_type": "code",
   "execution_count": 15,
   "metadata": {},
   "outputs": [
    {
     "name": "stderr",
     "output_type": "stream",
     "text": [
      "/Users/jiangchao/anaconda3/lib/python3.6/site-packages/ipykernel_launcher.py:1: ParserWarning: Falling back to the 'python' engine because the 'c' engine does not support skipfooter; you can avoid this warning by specifying engine='python'.\n",
      "  \"\"\"Entry point for launching an IPython kernel.\n",
      "/Users/jiangchao/anaconda3/lib/python3.6/site-packages/ipykernel_launcher.py:2: ParserWarning: Falling back to the 'python' engine because the 'c' engine does not support skipfooter; you can avoid this warning by specifying engine='python'.\n",
      "  \n",
      "/Users/jiangchao/anaconda3/lib/python3.6/site-packages/ipykernel_launcher.py:3: ParserWarning: Falling back to the 'python' engine because the 'c' engine does not support skipfooter; you can avoid this warning by specifying engine='python'.\n",
      "  This is separate from the ipykernel package so we can avoid doing imports until\n",
      "/Users/jiangchao/anaconda3/lib/python3.6/site-packages/ipykernel_launcher.py:4: ParserWarning: Falling back to the 'python' engine because the 'c' engine does not support skipfooter; you can avoid this warning by specifying engine='python'.\n",
      "  after removing the cwd from sys.path.\n",
      "/Users/jiangchao/anaconda3/lib/python3.6/site-packages/ipykernel_launcher.py:5: ParserWarning: Falling back to the 'python' engine because the 'c' engine does not support skipfooter; you can avoid this warning by specifying engine='python'.\n",
      "  \"\"\"\n",
      "/Users/jiangchao/anaconda3/lib/python3.6/site-packages/ipykernel_launcher.py:6: ParserWarning: Falling back to the 'python' engine because the 'c' engine does not support skipfooter; you can avoid this warning by specifying engine='python'.\n",
      "  \n",
      "/Users/jiangchao/anaconda3/lib/python3.6/site-packages/ipykernel_launcher.py:7: ParserWarning: Falling back to the 'python' engine because the 'c' engine does not support skipfooter; you can avoid this warning by specifying engine='python'.\n",
      "  import sys\n",
      "/Users/jiangchao/anaconda3/lib/python3.6/site-packages/ipykernel_launcher.py:8: ParserWarning: Falling back to the 'python' engine because the 'c' engine does not support skipfooter; you can avoid this warning by specifying engine='python'.\n",
      "  \n",
      "/Users/jiangchao/anaconda3/lib/python3.6/site-packages/ipykernel_launcher.py:9: ParserWarning: Falling back to the 'python' engine because the 'c' engine does not support skipfooter; you can avoid this warning by specifying engine='python'.\n",
      "  if __name__ == '__main__':\n"
     ]
    }
   ],
   "source": [
    "data_2014 = pd.read_csv('LoanStats3c.csv',skiprows=1, usecols=use_cols, skipfooter=2)\n",
    "data_2015 = pd.read_csv('LoanStats3d.csv',skiprows=1, usecols=use_cols, skipfooter=2)\n",
    "data_2016_q1 = pd.read_csv('LoanStats_2016q1.csv',skiprows=1, usecols=use_cols, skipfooter=2)\n",
    "data_2016_q2 = pd.read_csv('LoanStats_2016q2.csv',skiprows=1, usecols=use_cols, skipfooter=2)\n",
    "data_2016_q3 = pd.read_csv('LoanStats_2016q3.csv',skiprows=1, usecols=use_cols, skipfooter=2)\n",
    "data_2016_q4 = pd.read_csv('LoanStats_2016q4.csv',skiprows=1, usecols=use_cols, skipfooter=2)\n",
    "data_2017_q1 = pd.read_csv('LoanStats_2017q1.csv',skiprows=1, usecols=use_cols, skipfooter=2)\n",
    "data_2017_q2 = pd.read_csv('LoanStats_2017q2.csv',skiprows=1, usecols=use_cols, skipfooter=2)\n",
    "data_2017_q3 = pd.read_csv('LoanStats_2017q3.csv',skiprows=1, usecols=use_cols, skipfooter=2)"
   ]
  },
  {
   "cell_type": "code",
   "execution_count": 16,
   "metadata": {},
   "outputs": [],
   "source": [
    "df = pd.concat([data_2014,\n",
    "                data_2015,\n",
    "                data_2016_q1,\n",
    "                data_2016_q2,\n",
    "                data_2016_q3,\n",
    "                data_2016_q4,\n",
    "                data_2017_q1,\n",
    "                data_2017_q2,\n",
    "                data_2017_q3],ignore_index=True)"
   ]
  },
  {
   "cell_type": "code",
   "execution_count": 17,
   "metadata": {},
   "outputs": [
    {
     "name": "stdout",
     "output_type": "stream",
     "text": [
      "<class 'pandas.core.frame.DataFrame'>\n",
      "RangeIndex: 1416062 entries, 0 to 1416061\n",
      "Data columns (total 17 columns):\n",
      "loan_amnt              1416062 non-null int64\n",
      "term                   1416062 non-null object\n",
      "int_rate               1416062 non-null object\n",
      "grade                  1416062 non-null object\n",
      "sub_grade              1416062 non-null object\n",
      "emp_length             1416062 non-null object\n",
      "home_ownership         1416062 non-null object\n",
      "annual_inc             1416062 non-null float64\n",
      "verification_status    1416062 non-null object\n",
      "issue_d                1416062 non-null object\n",
      "loan_status            1416062 non-null object\n",
      "purpose                1416062 non-null object\n",
      "addr_state             1416062 non-null object\n",
      "dti                    1415705 non-null float64\n",
      "earliest_cr_line       1416062 non-null object\n",
      "revol_bal              1416062 non-null int64\n",
      "revol_util             1415258 non-null object\n",
      "dtypes: float64(2), int64(2), object(13)\n",
      "memory usage: 183.7+ MB\n"
     ]
    }
   ],
   "source": [
    "df.info()"
   ]
  },
  {
   "cell_type": "code",
   "execution_count": 18,
   "metadata": {},
   "outputs": [
    {
     "data": {
      "text/html": [
       "<div>\n",
       "<style>\n",
       "    .dataframe thead tr:only-child th {\n",
       "        text-align: right;\n",
       "    }\n",
       "\n",
       "    .dataframe thead th {\n",
       "        text-align: left;\n",
       "    }\n",
       "\n",
       "    .dataframe tbody tr th {\n",
       "        vertical-align: top;\n",
       "    }\n",
       "</style>\n",
       "<table border=\"1\" class=\"dataframe\">\n",
       "  <thead>\n",
       "    <tr style=\"text-align: right;\">\n",
       "      <th></th>\n",
       "      <th>loan_amnt</th>\n",
       "      <th>term</th>\n",
       "      <th>int_rate</th>\n",
       "      <th>grade</th>\n",
       "      <th>sub_grade</th>\n",
       "      <th>emp_length</th>\n",
       "      <th>home_ownership</th>\n",
       "      <th>annual_inc</th>\n",
       "      <th>verification_status</th>\n",
       "      <th>issue_d</th>\n",
       "      <th>loan_status</th>\n",
       "      <th>purpose</th>\n",
       "      <th>addr_state</th>\n",
       "      <th>dti</th>\n",
       "      <th>earliest_cr_line</th>\n",
       "      <th>revol_bal</th>\n",
       "      <th>revol_util</th>\n",
       "    </tr>\n",
       "  </thead>\n",
       "  <tbody>\n",
       "    <tr>\n",
       "      <th>0</th>\n",
       "      <td>15000</td>\n",
       "      <td>60 months</td>\n",
       "      <td>12.39%</td>\n",
       "      <td>C</td>\n",
       "      <td>C1</td>\n",
       "      <td>10+ years</td>\n",
       "      <td>RENT</td>\n",
       "      <td>78000.0</td>\n",
       "      <td>Source Verified</td>\n",
       "      <td>Dec-2014</td>\n",
       "      <td>Fully Paid</td>\n",
       "      <td>debt_consolidation</td>\n",
       "      <td>VA</td>\n",
       "      <td>12.03</td>\n",
       "      <td>Aug-1994</td>\n",
       "      <td>138008</td>\n",
       "      <td>29%</td>\n",
       "    </tr>\n",
       "    <tr>\n",
       "      <th>1</th>\n",
       "      <td>10400</td>\n",
       "      <td>36 months</td>\n",
       "      <td>6.99%</td>\n",
       "      <td>A</td>\n",
       "      <td>A3</td>\n",
       "      <td>8 years</td>\n",
       "      <td>MORTGAGE</td>\n",
       "      <td>58000.0</td>\n",
       "      <td>Not Verified</td>\n",
       "      <td>Dec-2014</td>\n",
       "      <td>Charged Off</td>\n",
       "      <td>credit_card</td>\n",
       "      <td>CA</td>\n",
       "      <td>14.92</td>\n",
       "      <td>Sep-1989</td>\n",
       "      <td>6133</td>\n",
       "      <td>31.6%</td>\n",
       "    </tr>\n",
       "    <tr>\n",
       "      <th>2</th>\n",
       "      <td>21425</td>\n",
       "      <td>60 months</td>\n",
       "      <td>15.59%</td>\n",
       "      <td>D</td>\n",
       "      <td>D1</td>\n",
       "      <td>6 years</td>\n",
       "      <td>RENT</td>\n",
       "      <td>63800.0</td>\n",
       "      <td>Source Verified</td>\n",
       "      <td>Dec-2014</td>\n",
       "      <td>Fully Paid</td>\n",
       "      <td>credit_card</td>\n",
       "      <td>MO</td>\n",
       "      <td>18.49</td>\n",
       "      <td>Aug-2003</td>\n",
       "      <td>16374</td>\n",
       "      <td>76.2%</td>\n",
       "    </tr>\n",
       "    <tr>\n",
       "      <th>3</th>\n",
       "      <td>12800</td>\n",
       "      <td>60 months</td>\n",
       "      <td>17.14%</td>\n",
       "      <td>D</td>\n",
       "      <td>D4</td>\n",
       "      <td>10+ years</td>\n",
       "      <td>MORTGAGE</td>\n",
       "      <td>125000.0</td>\n",
       "      <td>Verified</td>\n",
       "      <td>Dec-2014</td>\n",
       "      <td>Current</td>\n",
       "      <td>car</td>\n",
       "      <td>CA</td>\n",
       "      <td>8.31</td>\n",
       "      <td>Oct-2000</td>\n",
       "      <td>5753</td>\n",
       "      <td>100.9%</td>\n",
       "    </tr>\n",
       "    <tr>\n",
       "      <th>4</th>\n",
       "      <td>9600</td>\n",
       "      <td>36 months</td>\n",
       "      <td>13.66%</td>\n",
       "      <td>C</td>\n",
       "      <td>C3</td>\n",
       "      <td>10+ years</td>\n",
       "      <td>RENT</td>\n",
       "      <td>69000.0</td>\n",
       "      <td>Source Verified</td>\n",
       "      <td>Dec-2014</td>\n",
       "      <td>Fully Paid</td>\n",
       "      <td>debt_consolidation</td>\n",
       "      <td>NJ</td>\n",
       "      <td>25.81</td>\n",
       "      <td>Nov-1992</td>\n",
       "      <td>16388</td>\n",
       "      <td>59.4%</td>\n",
       "    </tr>\n",
       "  </tbody>\n",
       "</table>\n",
       "</div>"
      ],
      "text/plain": [
       "   loan_amnt        term int_rate grade sub_grade emp_length home_ownership  \\\n",
       "0      15000   60 months   12.39%     C        C1  10+ years           RENT   \n",
       "1      10400   36 months    6.99%     A        A3    8 years       MORTGAGE   \n",
       "2      21425   60 months   15.59%     D        D1    6 years           RENT   \n",
       "3      12800   60 months   17.14%     D        D4  10+ years       MORTGAGE   \n",
       "4       9600   36 months   13.66%     C        C3  10+ years           RENT   \n",
       "\n",
       "   annual_inc verification_status   issue_d  loan_status             purpose  \\\n",
       "0     78000.0     Source Verified  Dec-2014   Fully Paid  debt_consolidation   \n",
       "1     58000.0        Not Verified  Dec-2014  Charged Off         credit_card   \n",
       "2     63800.0     Source Verified  Dec-2014   Fully Paid         credit_card   \n",
       "3    125000.0            Verified  Dec-2014      Current                 car   \n",
       "4     69000.0     Source Verified  Dec-2014   Fully Paid  debt_consolidation   \n",
       "\n",
       "  addr_state    dti earliest_cr_line  revol_bal revol_util  \n",
       "0         VA  12.03         Aug-1994     138008        29%  \n",
       "1         CA  14.92         Sep-1989       6133      31.6%  \n",
       "2         MO  18.49         Aug-2003      16374      76.2%  \n",
       "3         CA   8.31         Oct-2000       5753     100.9%  \n",
       "4         NJ  25.81         Nov-1992      16388      59.4%  "
      ]
     },
     "execution_count": 18,
     "metadata": {},
     "output_type": "execute_result"
    }
   ],
   "source": [
    "df.head()"
   ]
  },
  {
   "cell_type": "code",
   "execution_count": 19,
   "metadata": {
    "collapsed": true
   },
   "outputs": [],
   "source": [
    "del data_2014\n",
    "del data_2015\n",
    "del data_2016_q1\n",
    "del data_2016_q2\n",
    "del data_2016_q3\n",
    "del data_2016_q4\n",
    "del data_2017_q1\n",
    "del data_2017_q2\n",
    "del data_2017_q3"
   ]
  },
  {
   "cell_type": "code",
   "execution_count": 20,
   "metadata": {
    "collapsed": true
   },
   "outputs": [],
   "source": [
    "import gc"
   ]
  },
  {
   "cell_type": "code",
   "execution_count": 21,
   "metadata": {},
   "outputs": [
    {
     "data": {
      "text/plain": [
       "3318"
      ]
     },
     "execution_count": 21,
     "metadata": {},
     "output_type": "execute_result"
    }
   ],
   "source": [
    "gc.collect()"
   ]
  },
  {
   "cell_type": "code",
   "execution_count": 22,
   "metadata": {},
   "outputs": [
    {
     "name": "stdout",
     "output_type": "stream",
     "text": [
      "<class 'pandas.core.frame.DataFrame'>\n",
      "RangeIndex: 1416062 entries, 0 to 1416061\n",
      "Data columns (total 17 columns):\n",
      "loan_amnt              1416062 non-null int64\n",
      "term                   1416062 non-null object\n",
      "int_rate               1416062 non-null object\n",
      "grade                  1416062 non-null object\n",
      "sub_grade              1416062 non-null object\n",
      "emp_length             1416062 non-null object\n",
      "home_ownership         1416062 non-null object\n",
      "annual_inc             1416062 non-null float64\n",
      "verification_status    1416062 non-null object\n",
      "issue_d                1416062 non-null object\n",
      "loan_status            1416062 non-null object\n",
      "purpose                1416062 non-null object\n",
      "addr_state             1416062 non-null object\n",
      "dti                    1415705 non-null float64\n",
      "earliest_cr_line       1416062 non-null object\n",
      "revol_bal              1416062 non-null int64\n",
      "revol_util             1415258 non-null object\n",
      "dtypes: float64(2), int64(2), object(13)\n",
      "memory usage: 183.7+ MB\n"
     ]
    }
   ],
   "source": [
    "df.info()"
   ]
  },
  {
   "cell_type": "code",
   "execution_count": null,
   "metadata": {
    "collapsed": true
   },
   "outputs": [],
   "source": []
  }
 ],
 "metadata": {
  "kernelspec": {
   "display_name": "Python 3",
   "language": "python",
   "name": "python3"
  },
  "language_info": {
   "codemirror_mode": {
    "name": "ipython",
    "version": 3
   },
   "file_extension": ".py",
   "mimetype": "text/x-python",
   "name": "python",
   "nbconvert_exporter": "python",
   "pygments_lexer": "ipython3",
   "version": "3.6.3"
  }
 },
 "nbformat": 4,
 "nbformat_minor": 2
}
